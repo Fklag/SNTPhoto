{
 "cells": [
  {
   "cell_type": "markdown",
   "metadata": {},
   "source": [
    "# SNT - La photo numérique"
   ]
  },
  {
   "cell_type": "markdown",
   "metadata": {},
   "source": [
    "## 1.1 L'oeil et le capteur photographique\n",
    "#### 1.1.1 La vision humaine\n",
    "\n",
    "<table style=\"width: 100%;\">\n",
    "    <td><p>Les rayons lumineux provenant d'un objet sont projetés au fond de l'oeil sur la rétine.<br/>\n",
    "      Celle-ci comprend des cellules sensibles à la lumière : les cônes.</p>\n",
    "      \n",
    "<p>Certains cônes perçoivent la couleur rouge, d'autres la couleur verte et d'autres la couleur bleue.<br/>      \n",
    "<b>Les cônes sensibles au vert sont les plus présents chez l'être humain.</b></p>\n",
    "<p>Ils transforment l'énergie lumineuse en impulsion électrique.<br/> Cette implusion est transmise au cerveau par l'intermédiaire du nerf optique.</p>\n",
    "<p> La couleur est ensuite reconstituée par le cerveau par addition du rouge, du vert et du bleu.</p></td>\n",
    "    <td><img src=\"http://lycee.lagrave.free.fr/SNTphoto/Vision_Humain.jpeg\" height=\"300px\" width=\"300px\" /></td>\n",
    "</table>\n",
    "\n",
    "\n",
    "\n",
    "####  1.1.2 L'appareil photo numérique\n",
    "\n",
    "<table style=\"width: 100%;\">\n",
    "    <td><p>Les rayons lumineux provenant d'un objet sont projetés dans l'appareil photo sur le capteur photographique.<br/> Celui-ci est constitué de cellules sensibles à la lumière.</p>\n",
    "    <p>La mesure de l'intensité lumineuse est transformée en données numériques puis stockée dans la mémoire de l'appareil.</p></td>\n",
    "    <td><img src=\"http://lycee.lagrave.free.fr/SNTphoto/Appareil_Photo.jpeg\" height=\"300px\" width=\"300px\" /></td>\n",
    "</table>\n",
    "\n",
    "####  1.1.3 Le fonctionnement du capteur photographique\n",
    "\n",
    "<table style=\"width: 100%;\">\n",
    "    <td><p>Les capteurs photographiques sont des éléments électroniques sensibles à la lumière, qui produisent des electrons (de l'électricité) lorsqu'ils reçoivent des photons (de la lumière). Un capteur d'appareil photo numérique est composé de cellules photosensibles : <b>les photosites</b>.</p>\n",
    "    <p> Pour que ceux-ci distinguent les couleurs, chacun est placé derrière un filtre qui ne laisse passer que les rayons d'une seul couleur : rouge, vert ou bleu <br/><b>(2 verts, 1 rouge et un bleu par carré)</b>.</p><p> Les photosites mesurent ainsi l'intensité lumineuse des rayons rouges (R), des rayons verts (V) et des rayons bleus (B). La tension électrique produite est ensuite convertie en nombre et envoyée au processeur de l'appareil photo.<br/><b> La définition d'un capteur est le nombre total de ses photosites.</b></p></td>\n",
    "    <td><img src=\"http://lycee.lagrave.free.fr/SNTphoto/Fonct_capteur.jpeg\" height=\"300px\" width=\"300px\" /></td>\n",
    "</table>\n",
    "\n",
    " \t"
   ]
  },
  {
   "cell_type": "markdown",
   "metadata": {},
   "source": [
    "<div class=\"alert alert-success\">Exercice 1</div>\n",
    "<div class=\"alert alert-info\">\n",
    "    <ol>\n",
    "        <li>En comparant les images schématisant la vision humaine et l'appareil photo numérique, quel est l'équivalent au niveau de l'appareil numérique :   \n",
    "        <ol=\"a\">\n",
    "        <li>du cristallin de l'oeil humain ?</li>   \n",
    "        <li>de la rétine de l'oeil ?</li>   \n",
    "        <li>du cerveau humain ?</li>   \n",
    "        <li>d'un cône ?</li>\n",
    "        </ol>\n",
    "        </li>\n",
    "        <li>Où se situe le capteur d'un appareil photo ?   </li>\n",
    "        <li>Pourquoi mettre sur un capteur photographique deux fois plus de photosites sensibles à la couleur verte qu'aux deux autres couleurs ?   </li>\n",
    "        <li>Que représente la définition d'un capteur photo ?   </li>\n",
    "        <li>Quels sont les principaux éléments d'un appareils photos ? Résumer son principe de fonctionnement.   </li>\n",
    "    </ol>\n",
    "</div>"
   ]
  },
  {
   "cell_type": "markdown",
   "metadata": {},
   "source": [
    "<div class = \"alert alert-warning\">\n",
    "    vos réponses ici\n",
    "</div>"
   ]
  },
  {
   "cell_type": "markdown",
   "metadata": {},
   "source": [
    "## 1.2 Notion d'image numérique\n",
    "\n",
    "<table style=\"width: 80%;\">\n",
    "    <td><p>Une image numérique est constituée d'un ensemble de pixels,<br/> c'est-à-dire de petits carrés colorés disposés les uns à côté des autres sous la forme d'un tableau à deux dimensions, le <b>pixel</b> représente ainsi le plus petit élément constitutif d'une image numérique.</p>\n",
    "<p>Chaque pixel est caractérisé par sa position sur l'image (sous forme de coordonnées), et sa couleur</p></td>\n",
    "    <td><img src=\"http://lycee.lagrave.free.fr/SNTphoto/citron_pixel_1.png\" height=\"300px\" width=\"300px\" /></td>\n",
    "</table>"
   ]
  },
  {
   "cell_type": "markdown",
   "metadata": {},
   "source": [
    "### Définition d'une image\n",
    "    \n",
    "<div class=\"alert alert-danger\">\n",
    "    La <b>définition</b> d'une image numérique est le <b>nombre de pixels</b> qui la composent.\n",
    "</div>\n",
    "\n",
    "si par exemple les dimensions de l'image sont 300 pixels en largeur et 200 pixels en hauteur, sa définition sera de 60 000 pixels ($60\\ 000=200\\times300$).\n",
    "\n",
    "* **Remarque ** On parle aussi de définition lorsqu'on veut exprimer la qualité d'un appareil photographique : si un fabricant annonce que son appareil a 18 mégapixels (soit 18 millions de pixels), cela signifie qu'il prend des photographies dont les dimensions sont $5184 \\times 3456$ pixels.*    \n",
    "    *Cependant en pratique, il est bien difficile de distinguer une photo à 18 mégapixels d'une autre à 12 mégapixels.*"
   ]
  },
  {
   "cell_type": "markdown",
   "metadata": {},
   "source": [
    "<div class=\"alert alert-success\">Question :  </div>\n",
    "<div class=\"alert alert-info\">\n",
    "    On considère une photographie ayant 500 pixels en longueur et 400 pixels en largeur ; sa définition sera de :\n",
    "\n",
    "<form name=\"qcm1\">\n",
    "\t\t\t\t<!-- <b>Réponses :</b> -->\n",
    "\t\t\t\t<br><input type=\"CHECKBOX\" name=\"choix\" value=\"0\"> 900 pixels.\n",
    "\t\t\t\t<br><input type=\"CHECKBOX\" name=\"choix\" value=\"0\"> 20 000 pixels.\n",
    "\t\t\t\t<br><input type=\"CHECKBOX\" name=\"choix\" value=\"1\"> 200 000 pixels.\n",
    "\t\t\t\t<br><input type=\"CHECKBOX\" name=\"choix\" value=\"0\"> 2 mégapixels.\n",
    "\t\t\t\t<br><br>\n",
    "\t\t\t\t<!-- <input type=\"BUTTON\" name=\"bouton\" value=\"Vérifier\" onclick=\"if (test(choix,4)) {alert('Bonne réponse.')} else {alert('Réponse fausse. \\nAidez-vous de l\\'exemple précédent.')}\"> -->\t\t\n",
    "</form>\n",
    "</div>"
   ]
  },
  {
   "cell_type": "markdown",
   "metadata": {},
   "source": [
    "<div class = \"alert alert-warning\">\n",
    "    votre réponse ici\n",
    "</div>"
   ]
  },
  {
   "cell_type": "markdown",
   "metadata": {},
   "source": [
    "### Résolution d'une image\n",
    "\n",
    "<div class=\"alert alert-danger\">\n",
    "    La <b>résolution</b> d'une image est exprimée par un <b>nombre de pixels par unité de longueur</b> (souvent <b>le pouce : soit 2,54 centimètres</b>).\n",
    "</div>\n",
    "\n",
    "* **Remarque ** Il est utile de l'évoquer lorsqu'on affiche une image sur un écran ou qu'on l'imprime sur papier : habituellement, les écrans d’ordinateurs ont une résolution de 72 pixels/pouce (soit environ 28 pixels/centimètre), alors que les impressions sur papier requièrent une résolution de 300 pixels/pouce.*\n"
   ]
  },
  {
   "cell_type": "markdown",
   "metadata": {},
   "source": [
    "<div class=\"alert alert-success\">Exercice 2</div>\n",
    "<div class=\"alert alert-info\">\n",
    "    <ol>\n",
    "    <li>On dispose d'une image de dimensions $75\\times50$ pixels, et on l'imprime sur une feuille de dimensions $15\\times10$ centimètres.   <br/>\n",
    "        Quelle sera la taille de chaque pixel imprimé ? Que peut-on craindre du résultat ?  </li>\n",
    "    <li>Quelles devraient être les dimensions de la feuille si on souhaite réaliser une impression avec une résolution de 100 pixels/pouce ?  </li>\n",
    "    <li>On souhaite imprimer une image sur une feuille de dimensions $15\\times10$ centimètres. Quelles devraient être les dimensions de l'image (en pixels) si on souhaite obtenir une résolution de 300 pixels par pouce ?</li>\n",
    "    </ol>\n",
    "</div>\n"
   ]
  },
  {
   "cell_type": "markdown",
   "metadata": {},
   "source": [
    "<div class = \"alert alert-warning\">\n",
    "    vos réponses ici\n",
    "</div>"
   ]
  },
  {
   "cell_type": "markdown",
   "metadata": {},
   "source": [
    "### Profondeur de couleur\n",
    "\n",
    "<div class=\"alert alert-danger\"><p>La <b>profondeur de couleurs</b>, dont l'unité est le \"bits par pixel\" (bpp),<br/> correspond au <b>nombre de bits (c'est-à-dire de $0$ et de $1$) nécessaire pour stocker en mémoire la couleur d'un pixel</b>.</p>\n",
    "    <p>Plus la profondeur de couleurs est grande plus l'échelle de nuances des couleurs est grande et plus la qualité de l'image est meilleure.</p>\n",
    "</div>"
   ]
  },
  {
   "cell_type": "markdown",
   "metadata": {},
   "source": [
    "<div class=\"alert alert-success\">Exercice 3</div>\n",
    "<div class=\"alert alert-info\">\n",
    "   <p> Voici la même photographie a été stockée en tant que trois images ayant une profondeur de couleurs différents : </p>\n",
    "  <ul>\n",
    "      <li>l'une a été enregistrée avec 4 bpp, c'est à dire avec seulement 16 couleurs possibles;</li>\n",
    "      <li>une autre avec 8 bpp, c'est à dire avec 256 couleurs possibles;</li>\n",
    "      <li>enfin la dernière avec 24 bpp, c'est à dire avec environ 16 millions de couleurs possibles.</li>\n",
    "   </ul>\n",
    "\n",
    "<table style=\"width: 100%;\">\n",
    "    <td>Image 1.\n",
    "        <img src=\"http://lycee.lagrave.free.fr/SNTphoto/profondeur_1.png\"></td>\n",
    "    <td>Image 2.\n",
    "        <img src=\"http://lycee.lagrave.free.fr/SNTphoto/profondeur_2.bmp\"></td>\n",
    "    <td>Image 3.\n",
    "        <img src=\"http://lycee.lagrave.free.fr/SNTphoto/profondeur_3.bmp\"></td>\n",
    "</table>\n",
    "    \n",
    "<p>Associer à chacune des images ci-dessus sa profondeur.<br/>\n",
    "<i>Vous pouvez regarder entre autre le centre de l'allée pour différencier certains cas.</i>\n",
    "</p>\n",
    "</div>"
   ]
  },
  {
   "cell_type": "markdown",
   "metadata": {},
   "source": [
    "<div class = \"alert alert-warning\">\n",
    "    votre réponse ici\n",
    "</div>"
   ]
  },
  {
   "cell_type": "markdown",
   "metadata": {},
   "source": [
    "### Le poids d'une image\n",
    "\n",
    "<div class=\"alert alert-danger\"><p>Le <b>poids</b> d'une image est la <b>mémoire nécessaire</b> à son enregistrement, il est mesuré en kilooctets, noté $\\texttt{Ko}$, ou en mégaoctets, noté $\\texttt{Mo}$.</p>\n",
    "</div>"
   ]
  },
  {
   "cell_type": "markdown",
   "metadata": {},
   "source": [
    "<div class=\"alert alert-success\">Exercice 4</div>\n",
    "<div class=\"alert alert-info\">\n",
    "    <ol>\n",
    "      <li>Dans un appareil photo numérique, quel réglage permet d'obtenir des photos de meilleure qualité ?</li>\n",
    "      <li>Que représentent la définition du capteur et la définition d'une photo ?<br/> Le nombre de pixels de la photo est-il nécessairement égal au nombre de photosites du capteur ?</li>\n",
    "      <li>Comment évolue le poids d'une image si :\n",
    "        <ol=\"a\">\n",
    "            <li>la définition de l'image augmente ?</li>\n",
    "            <li>la résolution de l'image augmente ?</li>\n",
    "            <li>la profondeur des couleurs de l'image augmente ?</li>\n",
    "         </ol>\n",
    "        </li>\n",
    "    </ol>\n",
    "</div>\n"
   ]
  },
  {
   "cell_type": "markdown",
   "metadata": {},
   "source": [
    "<div class = \"alert alert-warning\">\n",
    "    vos réponses ici\n",
    "</div>"
   ]
  },
  {
   "cell_type": "markdown",
   "metadata": {},
   "source": [
    "### Les métadonnées EXIF\n",
    "\n",
    "<div class=\"alert alert-danger\">\n",
    "<p>Dans les appareils numériques, <b>les métadonnées sont automatiquement inscrites et enregistrées dans le fichier</b> image.<br/> L'ensemble de ces informations est appelé <b>métadonnées EXIF</b>,<br/> $\\texttt{EXIF}$ pour <i>Exchangeable Image File Format</i> (signification en français : \"format d'échange de données pour les fichiers images\" ).</p>\n",
    "</div>"
   ]
  },
  {
   "cell_type": "markdown",
   "metadata": {},
   "source": [
    "<div class=\"alert alert-success\">\n",
    "<p>Il est possible d'obtenir simplement les caractéristiques d'une image. Dans l'explorateur Windows, un clic droit sur le fichier image permet d'accéder à ses propriétés. Dans l'<b>onglet Général</b>, on trouve entre autres :</p>\n",
    " <ul>\n",
    "    <li>le nom du fichier ;</li>\n",
    "    <li>le type (ou format) du fichier (par exemple JPG) ;</li>\n",
    "    <li>son emplacement dans la mémoire de l’ordinateur ;</li>\n",
    "    <li>sa définition.</li>\n",
    "  </ul>\n",
    "    <p>Dans l'<b>onglet Détails</b>, on trouve aussi :</p>\n",
    " <ul>\n",
    "    <li>ses dimensions;</li>\n",
    "    <li>sa résolution;</li>\n",
    "    <li>Les coordonnées GPS précises du lieu où a été prise l'image, etc ...</li>\n",
    "  </ul>\n",
    "</div>\n"
   ]
  },
  {
   "cell_type": "markdown",
   "metadata": {},
   "source": [
    "<div class=\"alert alert-success\">Exercice 5</div>\n",
    "<div class=\"alert alert-info\">\n",
    "    <ol>\n",
    "       <li>Faire un clic droit pour enregistrer cette image.\n",
    "        <img src=\"http://lycee.lagrave.free.fr/SNTphoto/Fleur.jpeg\" width=\"25%\" height=\"25%\">\n",
    "        </li>\n",
    "        <li>Afficher les métadonnées EXIF de cette image en utilisant l'explorateur Windows.</li>\n",
    "        <li>Quelle est la définition de cette image ?</li>\n",
    "        <li>Quel est son poids ?</li>\n",
    "        <li>Quelles devraient être les dimensions de la feuille d'impression de cette image si on souhaite          l'imprimer avec une résolution de 300 pixels/pouce ?</li>\n",
    "        <li>Quelle est la valeur de la profondeur en couleur de cette image ? Que signifie cette valeur ?</li>\n",
    "        <li>Déterminer les données permettant de déterminer la position du lieu où a été prise cette image.</li>\n",
    "        <li>À l'aide de ces données, déterminer le lieu où a été prise l'image.</li>\n",
    "    </ol>\n",
    "    \n",
    "<p>Faire une recherche sur Qwant pour trouver un site qui permet de localiser un lieu à partir de ses coordonnées GPS.</p>\n",
    "</div>"
   ]
  },
  {
   "cell_type": "markdown",
   "metadata": {},
   "source": [
    "<div class = \"alert alert-warning\">\n",
    "    vos réponses ici\n",
    "</div>"
   ]
  },
  {
   "cell_type": "markdown",
   "metadata": {},
   "source": [
    "<div class=\"alert alert-success\">Exercice 6</div>\n",
    "<div class=\"alert alert-info\">\n",
    "    <p>Un internaute vient de publier sur une page Web deux photos :</p>\n",
    "    \n",
    "<table style=\"width: 100%;\">\n",
    "    <td>Trou où le trésor est caché.\n",
    "        <img src=\"http://lycee.lagrave.free.fr/SNTphoto/cache.jpeg\"></td>\n",
    "    <td>Trésor à trouver.\n",
    "        <img src=\"http://lycee.lagrave.free.fr/SNTphoto/tresor_a_trouver.jpeg\"></td>\n",
    "</table>\n",
    " <p><b>Le but est de localiser le trésor !</b></p>\n",
    "    <ol>\n",
    "       <li>Télécharger les deux images ci-dessus à l'aide d'un clic droit pour les mettre dans le même répertoire que celui de l'exercice précédent.</li>\n",
    "       <li>Étudier les métadonnnées Exif disponibles sur la première photo. Quelles informations obtient-on sur l'image ?</li>\n",
    "       <li>Étudier les métadonnnées Exif disponibles sur la secondee photo. Quelle information obtient-on sur le lieu où a été pris la photo ?</li>\n",
    "       <li>Outre les données directement accessibles depuis les propriétés du fichier image, d’autres métadonnées sont disponibles. Certains sites (ou logiciels) permettent d’extraire d’un fichier les métadonnées qu’il contient.<br/>\n",
    "    Par exemple, utiliser le site <a href=\"https://www.get-metadata.com/\" target=\"_blank\">https://www.get-metadata.com/</a> pour extraire de nouvelles informations sur la localisation du trésor.</li>\n",
    "    <li>Localiser le lieu où le trésor est caché.</li>\n",
    "    </ol>\n",
    "</div>\n"
   ]
  },
  {
   "cell_type": "markdown",
   "metadata": {},
   "source": [
    "<div class = \"alert alert-warning\">\n",
    "    vos réponses ici\n",
    "</div>"
   ]
  },
  {
   "cell_type": "markdown",
   "metadata": {},
   "source": [
    "<div class=\"alert alert-success\">\n",
    "    Pour <b>protéger vos données personnelles</b>, vous devez les supprimer avant de les envoyer ou de les publier sur un réseau social.\n",
    "</div>\n",
    "<div class=\"alert alert-success\">Exercice 7</div>\n",
    "<div class=\"alert alert-info\">\n",
    "   <ol>\n",
    "       <li>Pour chacune des images téléchargées de l'exercice précédent, ouvrir les propriétés de l'image et supprimer les propriétés et les informations personnelles par un clic judicieux.</li>\n",
    "       <li>Peut-on encore localiser le trésor à partir des données restantes ?</li>\n",
    "    </ol>\n",
    "</div>"
   ]
  },
  {
   "cell_type": "markdown",
   "metadata": {},
   "source": [
    "<div class = \"alert alert-warning\">\n",
    "    vos réponses ici\n",
    "</div>"
   ]
  },
  {
   "cell_type": "markdown",
   "metadata": {},
   "source": [
    "<div class=\"alert alert-success\">Exercice 8</div>\n",
    "<div class=\"alert alert-info\">\n",
    "    <p>Les images proposées ci-dessus sont <b>« libres de droits »</b>. Rechercher la signification de cette expression.</p>\n",
    "<p>Si une image n’est pas « libre de droit », que peut-elle être ?</p>\n",
    "</div>"
   ]
  },
  {
   "cell_type": "markdown",
   "metadata": {},
   "source": [
    "<div class = \"alert alert-warning\">\n",
    "    votre réponse ici\n",
    "</div>"
   ]
  },
  {
   "cell_type": "markdown",
   "metadata": {},
   "source": [
    "<div class=\"alert alert-success\">Exercice 9 : Voici le lien pour accéder au collectif <a href=\"https://twitter.com/quiztime\" target=\"_blank\">quiztime</a> sur Twitter. </div>\n",
    "<div class=\"alert alert-info\">\n",
    "<p>Si vous avez apprécié le fait d'essayer de localiser une photographie, sachez qu'il existe un collectif sur twitter qui propose d'apprendre aux utilisateurs de nouvelles techniques de vérification des images en ligne. Il suffit que les joueurs retrouvent l'endroit où a été pris la photo à partir d’indices présents dans la photo. <b>Attention !</b> Il ne suffit pas de se contenter de trouver des métadonnées dans ce jeu mais de repérer des indices visuels et d'effectuer des recherches sur Internet.</p>\n",
    "\n",
    "<p>Chaque participant explique la démarche qui lui a permis de localiser la photo du jour : ainsi, au fil des résolutions, on apprend à trouver des indices et à les utiliser de manière performante ! Si vous voulez devenir des Sherlock Holmes du XXIè siècle, n'hésitez pas !</p>\n",
    "\n",
    "<p>Comme de plus, de nombreux posts sont en anglais, vous vous améliorerez aussi dans la langue de Sherlock Holmes !</p>\n",
    "<p>Voici <a href=\"https://www.lumni.fr/video/quiztime-un-jeu-pour-verifier-les-images\" target=\"_blank\">une page web contenant une vidéo</a> qui présente le jeu et explicite une résolution particulière. (vous y apprendrez en particulier comment faire pour retrouver une photo en taille originale pour pouvoir y trouver des indices.</p>\n",
    "\n",
    "\n",
    "</div>"
   ]
  }
 ],
 "metadata": {
  "kernelspec": {
   "display_name": "Python 3",
   "language": "python",
   "name": "python3"
  },
  "language_info": {
   "codemirror_mode": {
    "name": "ipython",
    "version": 3
   },
   "file_extension": ".py",
   "mimetype": "text/x-python",
   "name": "python",
   "nbconvert_exporter": "python",
   "pygments_lexer": "ipython3",
   "version": "3.7.3"
  }
 },
 "nbformat": 4,
 "nbformat_minor": 2
}
